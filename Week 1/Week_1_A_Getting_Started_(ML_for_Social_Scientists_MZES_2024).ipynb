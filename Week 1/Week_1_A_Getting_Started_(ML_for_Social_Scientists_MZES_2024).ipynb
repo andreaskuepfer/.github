{
  "nbformat": 4,
  "nbformat_minor": 0,
  "metadata": {
    "colab": {
      "provenance": [],
      "collapsed_sections": [
        "llwcUfsmY7yd",
        "ze7xdYer0f5N",
        "2wCFJhXQ5hyU",
        "v0aN6_ueGrIM",
        "IRlO0HHU-8ig"
      ],
      "authorship_tag": "ABX9TyO3FnU1C4ceXJDReBf4o1VZ",
      "include_colab_link": true
    },
    "kernelspec": {
      "name": "python3",
      "display_name": "Python 3"
    },
    "language_info": {
      "name": "python"
    }
  },
  "cells": [
    {
      "cell_type": "markdown",
      "metadata": {
        "id": "view-in-github",
        "colab_type": "text"
      },
      "source": [
        "<a href=\"https://colab.research.google.com/github/andreaskuepfer/.github/blob/main/Week%201/Week_1_A_Getting_Started_(ML_for_Social_Scientists_MZES_2024).ipynb\" target=\"_parent\"><img src=\"https://colab.research.google.com/assets/colab-badge.svg\" alt=\"Open In Colab\"/></a>"
      ]
    },
    {
      "cell_type": "markdown",
      "source": [
        "**Machine Learning for Social Scientists - MZES 2024**\n",
        "\n",
        "**Week 1 Lab: Getting Started (2024-09-09)**\n",
        "\n",
        "---\n",
        "\n",
        "\n",
        "*Ruben Bach (Data and Methods Unit, MZES Mannheim)*\n",
        "\n",
        "*Andreas Küpfer (Data and Methods Unit, MZES Mannheim & Institute for Political Science, TU Darmstadt)*"
      ],
      "metadata": {
        "id": "98w5g-tUWF6m"
      }
    },
    {
      "cell_type": "markdown",
      "source": [
        "## First Steps in Python\n",
        "\n",
        "Welcome to Week 1 of the lab!\n",
        "\n",
        "Implementing your Machine Learning pipeline is still much more comfortable in Python than in R due to better package availability and seamless integration with GPU access. to While for some of you this is going to be the first time you working with Python, others already might have some experience. For this very first part of our workshop series you do not need any local installations of Python as we work in the interactive browser environment Google Colab. You're currently working in a so-called \"Juypter Notebook\" (recognizable by the file type *.ipynb*). These are quite similar to RMarkdown Notebooks and we are going to use them locally on your machines later during this lab.\n",
        "\n",
        "Let's begin with just a few basics of Python. Execute the code chunks below by either clicking the \"Start\" button on the left side of each chunk or pressing \"CTRL+Enter\" (or \"CMD+Enter\" for Mac users) after clicking on a chunk:"
      ],
      "metadata": {
        "id": "llwcUfsmY7yd"
      }
    },
    {
      "cell_type": "code",
      "execution_count": 64,
      "metadata": {
        "colab": {
          "base_uri": "https://localhost:8080/"
        },
        "id": "8C80bOa8V984",
        "outputId": "2c761bd6-ecdd-44d0-b1c6-05eb22402b31"
      },
      "outputs": [
        {
          "output_type": "stream",
          "name": "stdout",
          "text": [
            "This is week 1 of Machine Learning for Social Scientists (MZES 2024)\n"
          ]
        }
      ],
      "source": [
        "print('This is week', 1, 'of Machine Learning for Social Scientists (MZES 2024)')"
      ]
    },
    {
      "cell_type": "markdown",
      "source": [
        "As you see, printining output to the screen is straightforward. You can even directly include other data types than *string* (similar to *character* in R) such as numbers directly.\n",
        "\n",
        "Let's explore some basic mathematical calculations:"
      ],
      "metadata": {
        "id": "sZpfw3oWbKT_"
      }
    },
    {
      "cell_type": "code",
      "source": [
        "2000+24"
      ],
      "metadata": {
        "colab": {
          "base_uri": "https://localhost:8080/"
        },
        "id": "iPJPOcTJW1Z2",
        "outputId": "b5fa28a6-e35b-4629-9973-c4fe390c3ea0"
      },
      "execution_count": 50,
      "outputs": [
        {
          "output_type": "execute_result",
          "data": {
            "text/plain": [
              "2024"
            ]
          },
          "metadata": {},
          "execution_count": 50
        }
      ]
    },
    {
      "cell_type": "markdown",
      "source": [
        "Concatenating *strings* and assigning the result to a new variable works the following way (and there are also many others to achieve the same result):"
      ],
      "metadata": {
        "id": "z2lgHYj5bslj"
      }
    },
    {
      "cell_type": "code",
      "source": [
        "variable_string = \"Machine\" + \" \" + \"Learning\""
      ],
      "metadata": {
        "id": "aVTYW-4Mb2Iw"
      },
      "execution_count": 51,
      "outputs": []
    },
    {
      "cell_type": "markdown",
      "source": [
        "It is important to note, that *strings* belong to the type of sequences. Other types of sequences in Python are *lists* and *tuples*. We can make use of this fact by selecting parts of the *string* by its index inside a bracket:"
      ],
      "metadata": {
        "id": "r5pbBOSGcYfV"
      }
    },
    {
      "cell_type": "code",
      "source": [
        "variable_string[1]"
      ],
      "metadata": {
        "colab": {
          "base_uri": "https://localhost:8080/",
          "height": 35
        },
        "id": "Fr3ogjTTd9xo",
        "outputId": "6b8007ca-b008-4710-e827-04ed148c8ef3"
      },
      "execution_count": 52,
      "outputs": [
        {
          "output_type": "execute_result",
          "data": {
            "text/plain": [
              "'a'"
            ],
            "application/vnd.google.colaboratory.intrinsic+json": {
              "type": "string"
            }
          },
          "metadata": {},
          "execution_count": 52
        }
      ]
    },
    {
      "cell_type": "markdown",
      "source": [
        "Should'nt we see 'M' insetad of 'a'? No, as Python indexes start at 0. Hence, if you want to address the first element of a sequence, you have to use 0 as the index:"
      ],
      "metadata": {
        "id": "x3_PyLdUphqs"
      }
    },
    {
      "cell_type": "code",
      "source": [
        "variable_string[0]"
      ],
      "metadata": {
        "colab": {
          "base_uri": "https://localhost:8080/",
          "height": 35
        },
        "id": "Bsh4JMJ7p6lg",
        "outputId": "0172c50c-1f27-4ae3-a829-803012d6e532"
      },
      "execution_count": 53,
      "outputs": [
        {
          "output_type": "execute_result",
          "data": {
            "text/plain": [
              "'M'"
            ],
            "application/vnd.google.colaboratory.intrinsic+json": {
              "type": "string"
            }
          },
          "metadata": {},
          "execution_count": 53
        }
      ]
    },
    {
      "cell_type": "markdown",
      "source": [
        "Similarly, we can use lists for various types of variables, e.g., integers. We can even add multiple lists. Or can we really do that? Let's try it:"
      ],
      "metadata": {
        "id": "m2qz_QmPqFmI"
      }
    },
    {
      "cell_type": "code",
      "source": [
        "x = [3, 4, 5]\n",
        "y = [6, 7, 8]\n",
        "\n",
        "x + y"
      ],
      "metadata": {
        "colab": {
          "base_uri": "https://localhost:8080/"
        },
        "id": "iYEUfADrqExF",
        "outputId": "e740499a-8086-406e-bf71-034f4d8242e0"
      },
      "execution_count": 54,
      "outputs": [
        {
          "output_type": "execute_result",
          "data": {
            "text/plain": [
              "[3, 4, 5, 6, 7, 8]"
            ]
          },
          "metadata": {},
          "execution_count": 54
        }
      ]
    },
    {
      "cell_type": "markdown",
      "source": [
        "This doesn't look right. Python only concatenated our two lists instead of adding. While this seems conterintuitive, it highlights that Python is a general-purpose language applicable to much more than statistical analysis. Lists can hold different types of objects that are always concatenated as we did earlier with our *string* example.\n",
        "\n",
        "This is one reason to rely on one of the 500'000 packages in Python (and, similar to R, there are tons of further reasons to do so). Probably the most important packages in Python are `numpy` and `pandas`."
      ],
      "metadata": {
        "id": "RyqHFSH2qwKI"
      }
    },
    {
      "cell_type": "markdown",
      "source": [
        "Starting with `numpy` we can import all of its functions at once with the following import command:"
      ],
      "metadata": {
        "id": "9RX-NEWGs533"
      }
    },
    {
      "cell_type": "code",
      "source": [
        "import numpy as np\n",
        "\n",
        "# # 1) Alternative to import all functions:\n",
        "# from numpy import * as\n",
        "# # 2) Alternative to import one or multple functions:\n",
        "# from numpy import array, sin\n",
        "# #\n",
        "# # IMPORTANT NOTE on imports: It is recommended and common to use \"import numpy\n",
        "# #    as np\" for numpy as this means you have to call functions using the suffix\n",
        "# #    \"np.\". Both alternatives do not require this (i.e. you would call a function\n",
        "# #    directly by its name), carrying the risk of name clashing with other packages.\n",
        "# #    If you don't want to use the recommended way you should rely on Alternative\n",
        "# #    2) to keep track of imported functions."
      ],
      "metadata": {
        "id": "_bzp4GSosuw5"
      },
      "execution_count": 55,
      "outputs": []
    },
    {
      "cell_type": "markdown",
      "source": [
        "We start using numpy by recycling our concatenation exmaple. As we still want to add the element in the *list*, we should transform it to a numpy array, giving us a multidimensional set of numbers:"
      ],
      "metadata": {
        "id": "2-FmklUYvMWf"
      }
    },
    {
      "cell_type": "code",
      "source": [
        "x = np.array([3, 4, 5])\n",
        "y = np.array([6, 7, 8])\n",
        "\n",
        "x + y"
      ],
      "metadata": {
        "colab": {
          "base_uri": "https://localhost:8080/"
        },
        "id": "y-j7HTZ7tE4I",
        "outputId": "9d3c3b36-ef92-435c-c4a4-b3e801b40486"
      },
      "execution_count": 56,
      "outputs": [
        {
          "output_type": "execute_result",
          "data": {
            "text/plain": [
              "array([ 9, 11, 13])"
            ]
          },
          "metadata": {},
          "execution_count": 56
        }
      ]
    },
    {
      "cell_type": "markdown",
      "source": [
        "In Machine Learning we work with multidimensional arrays a lot (e.g., embedding representations of text, video, or audio). Defining them is very intuitive:"
      ],
      "metadata": {
        "id": "SkKSszjWv5CL"
      }
    },
    {
      "cell_type": "code",
      "source": [
        "z = np.array([[1, 2], [3, 4]])\n",
        "z"
      ],
      "metadata": {
        "colab": {
          "base_uri": "https://localhost:8080/"
        },
        "id": "qVWeYYsawYh_",
        "outputId": "0ea2bc0e-6284-4628-e606-ccf8e8f2e564"
      },
      "execution_count": 57,
      "outputs": [
        {
          "output_type": "execute_result",
          "data": {
            "text/plain": [
              "array([[1, 2],\n",
              "       [3, 4]])"
            ]
          },
          "metadata": {},
          "execution_count": 57
        }
      ]
    },
    {
      "cell_type": "code",
      "source": [
        "z.dtype"
      ],
      "metadata": {
        "colab": {
          "base_uri": "https://localhost:8080/"
        },
        "id": "P900oWojxEhG",
        "outputId": "8f642cec-2ff0-4ffb-f3ec-d0dd041dc856"
      },
      "execution_count": 58,
      "outputs": [
        {
          "output_type": "execute_result",
          "data": {
            "text/plain": [
              "dtype('int64')"
            ]
          },
          "metadata": {},
          "execution_count": 58
        }
      ]
    },
    {
      "cell_type": "code",
      "source": [
        "z.ndim"
      ],
      "metadata": {
        "colab": {
          "base_uri": "https://localhost:8080/"
        },
        "id": "nUnmOVW7wrZT",
        "outputId": "1f963670-e203-4691-f17b-916f7bd84381"
      },
      "execution_count": 59,
      "outputs": [
        {
          "output_type": "execute_result",
          "data": {
            "text/plain": [
              "2"
            ]
          },
          "metadata": {},
          "execution_count": 59
        }
      ]
    },
    {
      "cell_type": "code",
      "source": [
        "z.shape"
      ],
      "metadata": {
        "colab": {
          "base_uri": "https://localhost:8080/"
        },
        "id": "b8c9K70Iwx31",
        "outputId": "80bceb07-33d6-43c6-91d7-74e6206bed2b"
      },
      "execution_count": 60,
      "outputs": [
        {
          "output_type": "execute_result",
          "data": {
            "text/plain": [
              "(2, 2)"
            ]
          },
          "metadata": {},
          "execution_count": 60
        }
      ]
    },
    {
      "cell_type": "markdown",
      "source": [
        "Yielding the data type, number of dimensions and the shape of our array is straigtforward. Numpy also provides an easy functon to sum up all numbers of an array object:"
      ],
      "metadata": {
        "id": "gtKAgcorw0LP"
      }
    },
    {
      "cell_type": "code",
      "source": [
        "z.sum()"
      ],
      "metadata": {
        "colab": {
          "base_uri": "https://localhost:8080/"
        },
        "id": "HJcjTeoGxWlV",
        "outputId": "c2fda069-847c-48ed-90a5-7565d896d5c3"
      },
      "execution_count": 61,
      "outputs": [
        {
          "output_type": "execute_result",
          "data": {
            "text/plain": [
              "10"
            ]
          },
          "metadata": {},
          "execution_count": 61
        }
      ]
    },
    {
      "cell_type": "markdown",
      "source": [
        "The following example has two purposes: Getting to know the *tuple* type as well as another important fuction of the numpy universe: `reshape()`"
      ],
      "metadata": {
        "id": "D55xv2zAxuwK"
      }
    },
    {
      "cell_type": "code",
      "source": [
        "print('beginning z:\\n', z)\n",
        "z_reshape = z.reshape((4, 1)) # rows, columns - at least this is familiar...\n",
        "print('reshaped z:\\n', z_reshape)"
      ],
      "metadata": {
        "colab": {
          "base_uri": "https://localhost:8080/"
        },
        "id": "o7GqdztLx72e",
        "outputId": "524c7548-f03c-4f51-a2f0-4f4fa6b9c907"
      },
      "execution_count": 62,
      "outputs": [
        {
          "output_type": "stream",
          "name": "stdout",
          "text": [
            "beginning z:\n",
            " [[1 2]\n",
            " [3 4]]\n",
            "reshaped z:\n",
            " [[1]\n",
            " [2]\n",
            " [3]\n",
            " [4]]\n"
          ]
        }
      ]
    },
    {
      "cell_type": "markdown",
      "source": [
        "To now access a certain element in our reshaped numpy array, we can rely on multidimensional indexing (again, keep in mind that indexes in Python start at 0!):"
      ],
      "metadata": {
        "id": "ixkVX5mCyfds"
      }
    },
    {
      "cell_type": "code",
      "source": [
        "z_reshape[2, 0]"
      ],
      "metadata": {
        "colab": {
          "base_uri": "https://localhost:8080/"
        },
        "id": "cG0yS_Rsyp9N",
        "outputId": "e20714d5-aa18-4687-c001-0e155b460001"
      },
      "execution_count": 63,
      "outputs": [
        {
          "output_type": "execute_result",
          "data": {
            "text/plain": [
              "3"
            ]
          },
          "metadata": {},
          "execution_count": 63
        }
      ]
    },
    {
      "cell_type": "markdown",
      "source": [
        "This was an elementary introduction to Python's numpy. While pandas probably is **the** package to load datasets, working with data is much more easy in a local environment on your machine. Other reasons for needing a local Python distribution are package versions, reproducibility, and easier access to GPUs to do resource-intensive work. Unlike R, in Python, you should carefully assign package versions when installing them. Otherwise, you might end up with version clashes between several package dependencies. Beyond that, working with an isolated environment per project in Python is very common. This means you install packages in a so-called *Virtual Environment* or *Conda Environment*. Environments do not only help you in keeping track of packages but also ensure the reproducibility of your findings on other machines."
      ],
      "metadata": {
        "id": "bP8dXJjdy-Sa"
      }
    },
    {
      "cell_type": "markdown",
      "source": [
        "## Installing Python on Your Machine\n",
        "\n",
        "This means you now want to install Python locally. The following guideline will help you succeed in setting up a working local installation."
      ],
      "metadata": {
        "id": "ze7xdYer0f5N"
      }
    },
    {
      "cell_type": "markdown",
      "source": [
        "#### 1. Download Python\n",
        "\n",
        "1. Open your web browser and go to the official Python website: [python.org](https://www.python.org/).\n",
        "2. Navigate to the Downloads section.\n",
        "3. The website typically detects your operating system and suggests the appropriate version. Click the download button to get the latest stable release.\n",
        "\n",
        "#### 2. Install Python on Your System\n",
        "\n",
        "##### **For Windows**\n",
        "\n",
        "1. Locate the downloaded Python installer (`python-<version>.exe`) and run it.\n",
        "2. In the installer window:\n",
        "   - Check the box labeled \"Add Python to PATH\".\n",
        "   - Click on \"Install Now\" for a standard installation or \"Customize installation\" if you need specific options.\n",
        "3. The installer will run and install Python. Once completed, click \"Close\".\n",
        "\n",
        "##### **For macOS**\n",
        "\n",
        "1. Locate the downloaded Python installer (`python-<version>-macosx<macosx_version>.pkg`) and run it.\n",
        "2. Follow the installation instructions, which will guide you through the steps.\n",
        "3. After installation, Python should be available in your Applications folder and accessible from the terminal.\n",
        "\n",
        "##### **For Linux**\n",
        "\n",
        "Python is often pre-installed on many Linux distributions. However, to install the latest version, follow these steps:\n",
        "\n",
        "1. Open your terminal.\n",
        "2. Update your package list:\n",
        "   ```bash\n",
        "   sudo apt update\n",
        "   ```\n",
        "3. Install Python using the package manager. For example, on Debian-based systems like Ubuntu, use:\n",
        "   ```bash\n",
        "   sudo apt install python3\n",
        "   ```\n",
        "4. Verify the installation by checking the Python version:\n",
        "   ```bash\n",
        "   python3 --version\n",
        "   ```\n",
        "\n",
        "#### 3. Verify Installation\n",
        "\n",
        "After installation, ensure Python is correctly installed by verifying the version.\n",
        "\n",
        "1. Open a command prompt (Windows) or terminal (macOS/Linux).\n",
        "2. Type the following command and press Enter:\n",
        "   ```bash\n",
        "   python --version\n",
        "   ```\n",
        "   or\n",
        "   ```bash\n",
        "   python3 --version\n",
        "   ```\n",
        "3. You should see the Python version number printed on the screen.\n",
        "\n",
        "Congratulations! You now have a working installation of Python on your local machine."
      ],
      "metadata": {
        "id": "MlYk0WT5NevA"
      }
    },
    {
      "cell_type": "markdown",
      "source": [
        "## Setting up a Package Manager on Your Machine\n",
        "\n",
        "The easiest way to install packages in R is by simply calling `install.packages(<list_of_packages>)`. The R package `pacman` offers a more comprehensive way to manage packages by handling not only installation of CRAN and GitHub packages but also load them into R. You could see `pacman` as a light version of Python package managers. While package managers in R are more 'nice to have', in Python they are essential."
      ],
      "metadata": {
        "id": "2wCFJhXQ5hyU"
      }
    },
    {
      "cell_type": "markdown",
      "source": [
        "\n",
        "The Python univserse developed two dominant package management solutions. First, `pip` is the package installer for Python (see *(Optional) Install pip to check if you need to install `pip` or if it's already available). It allows you to install and manage additional libraries (e.g., numpy, pandas, or torch) and dependencies that are not included in the standard library (similar to base R).\n",
        "\n",
        "#### *(Optional) Install pip\n",
        "\n",
        "`pip` is a package manager for Python that allows you to install additional libraries and packages.\n",
        "\n",
        "- For Windows and macOS, `pip` is included with the Python installation.\n",
        "- For Linux, you might need to install `pip` separately:\n",
        "  ```bash\n",
        "  sudo apt install python3-pip\n",
        "  ```"
      ],
      "metadata": {
        "id": "Jrj-re-2Nmwx"
      }
    },
    {
      "cell_type": "markdown",
      "source": [
        "Before installing your first Python package, let's discuss project environments. You could install all your packages without any isoloated environment to manage dependencies. However, as mentioned earlier this bears great risks of version clashes between different projects as package versions in Python (and even the Python version itself) do matter. A lot!\n",
        "\n",
        "This is why we now set up a so-called virtual environment for this workshop. On most of the machines you don't need to install any addtional software to do this. For the following lines of code you have to go back to your command prompr/terminal.\n",
        "\n",
        "1. (Only for Linux users!) Install the `venv` module if it's not already available:\n",
        "   ```bash\n",
        "   sudo apt install python3-venv\n",
        "   ```\n",
        "2. Create a virtual environment:\n",
        "   ```bash\n",
        "   python -m venv css_mzes2024\n",
        "   ```\n",
        "3. Activate the virtual environment:\n",
        "   - On Windows:\n",
        "     ```bash\n",
        "     css_mzes2024\\Scripts\\activate\n",
        "     ```\n",
        "   - On macOS/Linux:\n",
        "     ```bash\n",
        "     source css_mzes2024/bin/activate\n",
        "     ```\n",
        "\n",
        "Now use `pip` to install additional packages within your envrionment as needed. For example:\n",
        "```bash\n",
        "pip install numpy\n",
        "```\n",
        "\n",
        "Use the following command to deactivate your virtual environment:\n",
        "\n",
        "```bash\n",
        "deactivate\n",
        "```\n",
        "\n",
        "Deleting it works as follows (**Be very (!) careful with this command as it deletes all files including directory in the given directory. rm -r depends on the current working directory you're in.**):\n",
        "\n",
        "```bash\n",
        "rm -r css_mzes2024/\n",
        "```"
      ],
      "metadata": {
        "id": "gzvFOl6H9H1y"
      }
    },
    {
      "cell_type": "markdown",
      "source": [
        "The following lab sessions use virtual environments. However, we encourage you to try out `conda` as a easy-to-use and comprehensive package manager. Please find both an installation guideline and a demo of most common functions at the very end of this Google Colab."
      ],
      "metadata": {
        "id": "7fsDFpKaE7-x"
      }
    },
    {
      "cell_type": "markdown",
      "source": [
        "## Local version of Google Colab: Jupyter Notebooks\n",
        "\n",
        "The merits of Google Colab are chunk-by-chude code execution useful to try out new code, packages and learning cutting-edge computational social science methods before converting your code to a script file to be executed on a cluster. One of its huge drawbacks is its difficult package management. Good news: You can combine virtual envriomments or `conda` with a local version of Google Colab called *Juypter Notebook*.\n",
        "\n",
        "The following guideline helps you to set up *Juypter Notebook* and activate your local package environment. And -- we promise -- it's the last installation routine for this lab session."
      ],
      "metadata": {
        "id": "v0aN6_ueGrIM"
      }
    },
    {
      "cell_type": "markdown",
      "source": [
        "#### 1. Install Jupyter Notebook (Only once)\n",
        "\n",
        "This tool is really easy to install and you don't need any additional software. Just install the following package via pip (**after deactivating your current virtual environment if loaded to install jupyter notebook globally!**):\n",
        "\n",
        "```bash\n",
        "pip install notebook\n",
        "```\n",
        "\n",
        "#### 2. Activate Your Local Package Environment\n",
        "\n",
        "Now, reactivate your environment, install `ipykernel`, and add your environment (don't forget to replace \\<your_env_name\\> with your actual environment) the a new so-called kernel:\n",
        "\n",
        "```bash\n",
        "pip install ipykernel\n",
        "ipython kernel install --user --name=<your_env_name>\n",
        "```\n",
        "\n",
        "#### 3. Run Jupyter Notebook and Select Kernel\n",
        "\n",
        "Finally, run an instance of Jupyter Notebook to create your first own Notebook and activate your kernel (named after your virtual environment):\n",
        "\n",
        "```bash\n",
        "jupyter notebook\n",
        "```\n",
        "\n",
        "To shut down your Jupyter server, press CTRL+C and type 'Y' (for Yes). Don't worry; if you saved your Notebooks, they are safely stored on your local disk and can be reaccessed when you start Jupyter again."
      ],
      "metadata": {
        "id": "7GqtiwREH8AE"
      }
    },
    {
      "cell_type": "markdown",
      "source": [
        "## (Optional) Alternative to Virtual Environments: `conda`\n",
        "\n",
        "`conda` needs to be installed separately from Python and primarily focuses on packages from data science, which this workshop will focus on. While this sounds like a restriction, `conda` additionally offers a great overview of all environments and packages in its own UI. Additionally, it is also easier to keep track of all your environments via the command prompt/terminal. It's not even restricted to Python and lets you combine packages from different programming languages (yes, also R).\n",
        "\n",
        "The following guideline helps you set up `conda` and introduces some of its basic functionalities if you want to try it out."
      ],
      "metadata": {
        "id": "IRlO0HHU-8ig"
      }
    },
    {
      "cell_type": "markdown",
      "source": [
        "#### 1. Download the Anaconda or Miniconda installer\n",
        "\n",
        "`conda` is included in both the Anaconda and Miniconda distributions. Anaconda is a larger distribution with many pre-installed packages, while Miniconda is a minimal installer with just `conda` and its dependencies.\n",
        "\n",
        "##### Anaconda:\n",
        "\n",
        "- Download the Anaconda installer from the [Anaconda Distribution page](https://www.anaconda.com/products/distribution). (You are required to provide an email to receive a download link)\n",
        "\n",
        "##### Miniconda:\n",
        "\n",
        "- Download the Miniconda installer from the [Miniconda page](https://docs.conda.io/en/latest/miniconda.html).\n",
        "\n",
        "#### 2. Install Anaconda or Miniconda\n",
        "\n",
        "##### **For Windows:**\n",
        "\n",
        "1. Run the downloaded installer.\n",
        "2. Follow the installation instructions, and make sure to check the box to add Anaconda or Miniconda to your PATH environment variable.\n",
        "\n",
        "##### **For macOS:**\n",
        "\n",
        "1. Open a terminal and navigate to the directory where the installer is downloaded.\n",
        "2. Run the installer using:\n",
        "\n",
        "    ```bash\n",
        "    bash Miniconda3-latest-MacOSX-x86_64.sh\n",
        "    ```\n",
        "\n",
        "    or\n",
        "\n",
        "    ```bash\n",
        "    bash Anaconda3-latest-MacOSX-x86_64.sh\n",
        "    ```\n",
        "\n",
        "3. Follow the prompts to complete the installation.\n",
        "\n",
        "##### **For Linux:**\n",
        "\n",
        "1. Open a terminal and navigate to the directory where the installer is downloaded.\n",
        "2. Run the installer using:\n",
        "\n",
        "    ```bash\n",
        "    bash Miniconda3-latest-Linux-x86_64.sh\n",
        "    ```\n",
        "\n",
        "    or\n",
        "\n",
        "    ```bash\n",
        "    bash Anaconda3-latest-Linux-x86_64.sh\n",
        "    ```\n",
        "\n",
        "3. Follow the prompts to complete the installation.\n",
        "\n",
        "#### 3. Verify Installation\n",
        "\n",
        "To verify the installation of `conda`, open a new terminal or command prompt and run:\n",
        "\n",
        "```bash\n",
        "conda --version\n",
        "```\n",
        "\n",
        "You should see the version of `conda` installed."
      ],
      "metadata": {
        "id": "mGQZbGXSATGx"
      }
    },
    {
      "cell_type": "markdown",
      "source": [
        "#### Creating a Conda Environment\n",
        "\n",
        "To create a new conda environment, use the `conda create` command followed by the name of the environment and any packages you want to install.\n",
        "\n",
        "```bash\n",
        "conda create --name css_mzes2024\n",
        "```\n",
        "\n",
        "#### Activating a Conda Environment\n",
        "\n",
        "To activate the conda environment you created, use the `conda activate` command followed by the name of the environment.\n",
        "\n",
        "```bash\n",
        "conda activate css_mzes2024\n",
        "```\n",
        "\n",
        "Once activated, the environment name will appear in your terminal prompt, indicating that the environment is currently active. You can now install packages using one of the following commands:\n",
        "\n",
        "```bash\n",
        "conda install numpy\n",
        "```\n",
        "\n",
        "or (if a package is not available with conda)\n",
        "\n",
        "```bash\n",
        "pip install numpy\n",
        "```\n",
        "\n",
        "#### Deactivating a Conda Environment\n",
        "\n",
        "To deactivate the currently active conda environment, use the `conda deactivate` command.\n",
        "\n",
        "```bash\n",
        "conda deactivate\n",
        "```\n",
        "\n",
        "This command will return you to your base environment.\n",
        "\n",
        "#### Listing Conda Environments\n",
        "\n",
        "To see a list of all conda environments on your system, use the `conda env list` command.\n",
        "\n",
        "```bash\n",
        "conda env list\n",
        "```\n",
        "\n",
        "#### Removing a Conda Environment\n",
        "\n",
        "To remove a conda environment, use the `conda remove` command followed by the `--name` flag and the name of the environment, along with the `--all` flag to remove all packages in the environment.\n",
        "\n",
        "```bash\n",
        "conda remove --name css_mzes2024 --all\n",
        "```\n",
        "\n",
        "#### Exporting and Importing Environments\n",
        "\n",
        "##### Exporting an Environment\n",
        "\n",
        "To export the environment's configuration to a YAML file, use the `conda env export` command:\n",
        "\n",
        "```bash\n",
        "conda env export --name css_mzes2024 > css_mzes2024.yml\n",
        "```\n",
        "\n",
        "##### Importing an Environment\n",
        "\n",
        "To create a new environment from an exported YAML file, use the `conda env create` command:\n",
        "\n",
        "```bash\n",
        "conda env create --file css_mzes2024.yml\n",
        "```\n",
        "\n",
        "You now have the knowledge to create, activate, deactivate, list, remove, export, and import conda environments. These commands will help you manage your project dependencies efficiently and keep your development work organized."
      ],
      "metadata": {
        "id": "QT0zscg9Cgiz"
      }
    }
  ]
}